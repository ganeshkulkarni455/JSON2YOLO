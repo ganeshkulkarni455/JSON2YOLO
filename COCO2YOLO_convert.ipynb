{
  "nbformat": 4,
  "nbformat_minor": 0,
  "metadata": {
    "colab": {
      "name": "COCO2YOLO_convert.ipynb",
      "provenance": [],
      "collapsed_sections": []
    },
    "kernelspec": {
      "name": "python3",
      "display_name": "Python 3"
    }
  },
  "cells": [
    {
      "cell_type": "code",
      "metadata": {
        "id": "F7f4mYIWsb8X",
        "colab_type": "code",
        "outputId": "79bfb9fe-6e7b-4795-c256-a424b715eb0a",
        "colab": {
          "base_uri": "https://localhost:8080/",
          "height": 136
        }
      },
      "source": [
        "!git clone https://github.com/ganeshkulkarni98/JSON2YOLO"
      ],
      "execution_count": 1,
      "outputs": [
        {
          "output_type": "stream",
          "text": [
            "Cloning into 'JSON2YOLO'...\n",
            "remote: Enumerating objects: 61, done.\u001b[K\n",
            "remote: Counting objects: 100% (61/61), done.\u001b[K\n",
            "remote: Compressing objects: 100% (61/61), done.\u001b[K\n",
            "remote: Total 233 (delta 19), reused 0 (delta 0), pack-reused 172\u001b[K\n",
            "Receiving objects: 100% (233/233), 4.45 MiB | 20.71 MiB/s, done.\n",
            "Resolving deltas: 100% (131/131), done.\n"
          ],
          "name": "stdout"
        }
      ]
    },
    {
      "cell_type": "code",
      "metadata": {
        "id": "5R3732Gfsg2c",
        "colab_type": "code",
        "outputId": "b6862a06-c1e7-4428-fe8c-72929ee999c1",
        "colab": {
          "base_uri": "https://localhost:8080/",
          "height": 34
        }
      },
      "source": [
        "%cd JSON2YOLO/data"
      ],
      "execution_count": 2,
      "outputs": [
        {
          "output_type": "stream",
          "text": [
            "/content/JSON2YOLO/data\n"
          ],
          "name": "stdout"
        }
      ]
    },
    {
      "cell_type": "markdown",
      "metadata": {
        "id": "fomo_PRLtUE3",
        "colab_type": "text"
      },
      "source": [
        "Data folder consist Image folder and json file with COCO dataset format "
      ]
    },
    {
      "cell_type": "code",
      "metadata": {
        "id": "loO1DZVgtP1n",
        "colab_type": "code",
        "colab": {
          "base_uri": "https://localhost:8080/",
          "height": 34
        },
        "outputId": "c3477527-a3cc-46b7-fc3f-b30e875c3d87"
      },
      "source": [
        "ls"
      ],
      "execution_count": 3,
      "outputs": [
        {
          "output_type": "stream",
          "text": [
            "\u001b[0m\u001b[01;34mJPEGImages\u001b[0m/  output.json\n"
          ],
          "name": "stdout"
        }
      ]
    },
    {
      "cell_type": "code",
      "metadata": {
        "id": "d_6KXstht2qt",
        "colab_type": "code",
        "colab": {
          "base_uri": "https://localhost:8080/",
          "height": 34
        },
        "outputId": "eb1356c4-079d-4855-df26-653250a572d7"
      },
      "source": [
        "%cd ../"
      ],
      "execution_count": 6,
      "outputs": [
        {
          "output_type": "stream",
          "text": [
            "/content/JSON2YOLO\n"
          ],
          "name": "stdout"
        }
      ]
    },
    {
      "cell_type": "markdown",
      "metadata": {
        "id": "3mSpYWj0tqLF",
        "colab_type": "text"
      },
      "source": [
        "Run python for conversion"
      ]
    },
    {
      "cell_type": "code",
      "metadata": {
        "id": "9mcsLnA4mjKV",
        "colab_type": "code",
        "outputId": "f9004477-7ba7-4fc0-91a6-cf3eb68ab65f",
        "colab": {
          "base_uri": "https://localhost:8080/",
          "height": 85
        }
      },
      "source": [
        "!python run.py --json_file_dir /content/JSON2YOLO/data/output.json --data_folder_path /content/JSON2YOLO/data"
      ],
      "execution_count": 7,
      "outputs": [
        {
          "output_type": "stream",
          "text": [
            "\rFiles and Shapes:   0% 0/18 [00:00<?, ?it/s]\rFiles and Shapes: 100% 18/18 [00:00<00:00, 5320.47it/s]\n",
            "\rNames:   0% 0/3 [00:00<?, ?it/s]\rNames: 100% 3/3 [00:00<00:00, 6213.78it/s]\n",
            "\rAnnotations:   0% 0/164 [00:00<?, ?it/s]\rAnnotations: 100% 164/164 [00:00<00:00, 9225.17it/s]\n",
            "Done. Output saved to /content/JSON2YOLO/data\n"
          ],
          "name": "stdout"
        }
      ]
    },
    {
      "cell_type": "markdown",
      "metadata": {
        "id": "joIo3CqJtv8g",
        "colab_type": "text"
      },
      "source": [
        "Split dataset into train dataset (90%) and validation dataset (10%)\n",
        "\n",
        "Data folder consist data is in Darket Format (YOLO)\n",
        "\n",
        "This data folder is used to train and inference YoloV3 (Object Detection Implementation)\n",
        "\n",
        "https://github.com/ganeshkulkarni98/yolov3\n",
        "\n",
        "follow above github repo for furthur process"
      ]
    },
    {
      "cell_type": "code",
      "metadata": {
        "id": "2TG4Jf3Ttx0-",
        "colab_type": "code",
        "colab": {
          "base_uri": "https://localhost:8080/",
          "height": 85
        },
        "outputId": "f256d686-30f3-4517-a0dd-a3a3c62c06d4"
      },
      "source": [
        "%cd data\n",
        "\n",
        "!ls"
      ],
      "execution_count": 11,
      "outputs": [
        {
          "output_type": "stream",
          "text": [
            "[Errno 2] No such file or directory: 'data'\n",
            "/content/JSON2YOLO/data\n",
            "data.names   data_test.txt   data.txt\t labels\n",
            "data.shapes  data_train.txt  JPEGImages  output.json\n"
          ],
          "name": "stdout"
        }
      ]
    }
  ]
}