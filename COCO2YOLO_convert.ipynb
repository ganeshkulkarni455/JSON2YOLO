{
  "nbformat": 4,
  "nbformat_minor": 0,
  "metadata": {
    "colab": {
      "name": "COCO2YOLO_convert.ipynb",
      "provenance": [],
      "collapsed_sections": []
    },
    "kernelspec": {
      "name": "python3",
      "display_name": "Python 3"
    }
  },
  "cells": [
    {
      "cell_type": "code",
      "metadata": {
        "id": "F7f4mYIWsb8X",
        "colab_type": "code",
        "outputId": "a0f9615b-ea41-4efe-f499-8fe20e77535c",
        "colab": {
          "base_uri": "https://localhost:8080/",
          "height": 136
        }
      },
      "source": [
        "!git clone https://github.com/ganeshkulkarni98/JSON2YOLO"
      ],
      "execution_count": 1,
      "outputs": [
        {
          "output_type": "stream",
          "text": [
            "Cloning into 'JSON2YOLO'...\n",
            "remote: Enumerating objects: 65, done.\u001b[K\n",
            "remote: Counting objects:   1% (1/65)\u001b[K\rremote: Counting objects:   3% (2/65)\u001b[K\rremote: Counting objects:   4% (3/65)\u001b[K\rremote: Counting objects:   6% (4/65)\u001b[K\rremote: Counting objects:   7% (5/65)\u001b[K\rremote: Counting objects:   9% (6/65)\u001b[K\rremote: Counting objects:  10% (7/65)\u001b[K\rremote: Counting objects:  12% (8/65)\u001b[K\rremote: Counting objects:  13% (9/65)\u001b[K\rremote: Counting objects:  15% (10/65)\u001b[K\rremote: Counting objects:  16% (11/65)\u001b[K\rremote: Counting objects:  18% (12/65)\u001b[K\rremote: Counting objects:  20% (13/65)\u001b[K\rremote: Counting objects:  21% (14/65)\u001b[K\rremote: Counting objects:  23% (15/65)\u001b[K\rremote: Counting objects:  24% (16/65)\u001b[K\rremote: Counting objects:  26% (17/65)\u001b[K\rremote: Counting objects:  27% (18/65)\u001b[K\rremote: Counting objects:  29% (19/65)\u001b[K\rremote: Counting objects:  30% (20/65)\u001b[K\rremote: Counting objects:  32% (21/65)\u001b[K\rremote: Counting objects:  33% (22/65)\u001b[K\rremote: Counting objects:  35% (23/65)\u001b[K\rremote: Counting objects:  36% (24/65)\u001b[K\rremote: Counting objects:  38% (25/65)\u001b[K\rremote: Counting objects:  40% (26/65)\u001b[K\rremote: Counting objects:  41% (27/65)\u001b[K\rremote: Counting objects:  43% (28/65)\u001b[K\rremote: Counting objects:  44% (29/65)\u001b[K\rremote: Counting objects:  46% (30/65)\u001b[K\rremote: Counting objects:  47% (31/65)\u001b[K\rremote: Counting objects:  49% (32/65)\u001b[K\rremote: Counting objects:  50% (33/65)\u001b[K\rremote: Counting objects:  52% (34/65)\u001b[K\rremote: Counting objects:  53% (35/65)\u001b[K\rremote: Counting objects:  55% (36/65)\u001b[K\rremote: Counting objects:  56% (37/65)\u001b[K\rremote: Counting objects:  58% (38/65)\u001b[K\rremote: Counting objects:  60% (39/65)\u001b[K\rremote: Counting objects:  61% (40/65)\u001b[K\rremote: Counting objects:  63% (41/65)\u001b[K\rremote: Counting objects:  64% (42/65)\u001b[K\rremote: Counting objects:  66% (43/65)\u001b[K\rremote: Counting objects:  67% (44/65)\u001b[K\rremote: Counting objects:  69% (45/65)\u001b[K\rremote: Counting objects:  70% (46/65)\u001b[K\rremote: Counting objects:  72% (47/65)\u001b[K\rremote: Counting objects:  73% (48/65)\u001b[K\rremote: Counting objects:  75% (49/65)\u001b[K\rremote: Counting objects:  76% (50/65)\u001b[K\rremote: Counting objects:  78% (51/65)\u001b[K\rremote: Counting objects:  80% (52/65)\u001b[K\rremote: Counting objects:  81% (53/65)\u001b[K\rremote: Counting objects:  83% (54/65)\u001b[K\rremote: Counting objects:  84% (55/65)\u001b[K\rremote: Counting objects:  86% (56/65)\u001b[K\rremote: Counting objects:  87% (57/65)\u001b[K\rremote: Counting objects:  89% (58/65)\u001b[K\rremote: Counting objects:  90% (59/65)\u001b[K\rremote: Counting objects:  92% (60/65)\u001b[K\rremote: Counting objects:  93% (61/65)\u001b[K\rremote: Counting objects:  95% (62/65)\u001b[K\rremote: Counting objects:  96% (63/65)\u001b[K\rremote: Counting objects:  98% (64/65)\u001b[K\rremote: Counting objects: 100% (65/65)\u001b[K\rremote: Counting objects: 100% (65/65), done.\u001b[K\n",
            "remote: Compressing objects:   1% (1/65)\u001b[K\rremote: Compressing objects:   3% (2/65)\u001b[K\rremote: Compressing objects:   4% (3/65)\u001b[K\rremote: Compressing objects:   6% (4/65)\u001b[K\rremote: Compressing objects:   7% (5/65)\u001b[K\rremote: Compressing objects:   9% (6/65)\u001b[K\rremote: Compressing objects:  10% (7/65)\u001b[K\rremote: Compressing objects:  12% (8/65)\u001b[K\rremote: Compressing objects:  13% (9/65)\u001b[K\rremote: Compressing objects:  15% (10/65)\u001b[K\rremote: Compressing objects:  16% (11/65)\u001b[K\rremote: Compressing objects:  18% (12/65)\u001b[K\rremote: Compressing objects:  20% (13/65)\u001b[K\rremote: Compressing objects:  21% (14/65)\u001b[K\rremote: Compressing objects:  23% (15/65)\u001b[K\rremote: Compressing objects:  24% (16/65)\u001b[K\rremote: Compressing objects:  26% (17/65)\u001b[K\rremote: Compressing objects:  27% (18/65)\u001b[K\rremote: Compressing objects:  29% (19/65)\u001b[K\rremote: Compressing objects:  30% (20/65)\u001b[K\rremote: Compressing objects:  32% (21/65)\u001b[K\rremote: Compressing objects:  33% (22/65)\u001b[K\rremote: Compressing objects:  35% (23/65)\u001b[K\rremote: Compressing objects:  36% (24/65)\u001b[K\rremote: Compressing objects:  38% (25/65)\u001b[K\rremote: Compressing objects:  40% (26/65)\u001b[K\rremote: Compressing objects:  41% (27/65)\u001b[K\rremote: Compressing objects:  43% (28/65)\u001b[K\rremote: Compressing objects:  44% (29/65)\u001b[K\rremote: Compressing objects:  46% (30/65)\u001b[K\rremote: Compressing objects:  47% (31/65)\u001b[K\rremote: Compressing objects:  49% (32/65)\u001b[K\rremote: Compressing objects:  50% (33/65)\u001b[K\rremote: Compressing objects:  52% (34/65)\u001b[K\rremote: Compressing objects:  53% (35/65)\u001b[K\rremote: Compressing objects:  55% (36/65)\u001b[K\rremote: Compressing objects:  56% (37/65)\u001b[K\rremote: Compressing objects:  58% (38/65)\u001b[K\rremote: Compressing objects:  60% (39/65)\u001b[K\rremote: Compressing objects:  61% (40/65)\u001b[K\rremote: Compressing objects:  63% (41/65)\u001b[K\rremote: Compressing objects:  64% (42/65)\u001b[K\rremote: Compressing objects:  66% (43/65)\u001b[K\rremote: Compressing objects:  67% (44/65)\u001b[K\rremote: Compressing objects:  69% (45/65)\u001b[K\rremote: Compressing objects:  70% (46/65)\u001b[K\rremote: Compressing objects:  72% (47/65)\u001b[K\rremote: Compressing objects:  73% (48/65)\u001b[K\rremote: Compressing objects:  75% (49/65)\u001b[K\rremote: Compressing objects:  76% (50/65)\u001b[K\rremote: Compressing objects:  78% (51/65)\u001b[K\rremote: Compressing objects:  80% (52/65)\u001b[K\rremote: Compressing objects:  81% (53/65)\u001b[K\rremote: Compressing objects:  83% (54/65)\u001b[K\rremote: Compressing objects:  84% (55/65)\u001b[K\rremote: Compressing objects:  86% (56/65)\u001b[K\rremote: Compressing objects:  87% (57/65)\u001b[K\rremote: Compressing objects:  89% (58/65)\u001b[K\rremote: Compressing objects:  90% (59/65)\u001b[K\rremote: Compressing objects:  92% (60/65)\u001b[K\rremote: Compressing objects:  93% (61/65)\u001b[K\rremote: Compressing objects:  95% (62/65)\u001b[K\rremote: Compressing objects:  96% (63/65)\u001b[K\rremote: Compressing objects:  98% (64/65)\u001b[K\rremote: Compressing objects: 100% (65/65)\u001b[K\rremote: Compressing objects: 100% (65/65), done.\u001b[K\n",
            "Receiving objects:   0% (1/237)   \rReceiving objects:   1% (3/237)   \rReceiving objects:   2% (5/237)   \rReceiving objects:   3% (8/237)   \rReceiving objects:   4% (10/237)   \rReceiving objects:   5% (12/237)   \rReceiving objects:   6% (15/237)   \rReceiving objects:   7% (17/237)   \rReceiving objects:   8% (19/237)   \rReceiving objects:   9% (22/237)   \rReceiving objects:  10% (24/237)   \rReceiving objects:  11% (27/237)   \rReceiving objects:  12% (29/237)   \rReceiving objects:  13% (31/237)   \rReceiving objects:  14% (34/237)   \rReceiving objects:  15% (36/237)   \rReceiving objects:  16% (38/237)   \rReceiving objects:  17% (41/237)   \rReceiving objects:  18% (43/237)   \rReceiving objects:  19% (46/237)   \rReceiving objects:  20% (48/237)   \rReceiving objects:  21% (50/237)   \rReceiving objects:  22% (53/237)   \rReceiving objects:  23% (55/237)   \rReceiving objects:  24% (57/237)   \rReceiving objects:  25% (60/237)   \rReceiving objects:  26% (62/237)   \rReceiving objects:  27% (64/237)   \rReceiving objects:  28% (67/237)   \rReceiving objects:  29% (69/237)   \rReceiving objects:  30% (72/237)   \rReceiving objects:  31% (74/237)   \rReceiving objects:  32% (76/237)   \rReceiving objects:  33% (79/237)   \rReceiving objects:  34% (81/237)   \rReceiving objects:  35% (83/237)   \rReceiving objects:  36% (86/237)   \rReceiving objects:  37% (88/237)   \rReceiving objects:  38% (91/237)   \rReceiving objects:  39% (93/237)   \rReceiving objects:  40% (95/237)   \rReceiving objects:  41% (98/237)   \rReceiving objects:  42% (100/237)   \rReceiving objects:  43% (102/237)   \rReceiving objects:  44% (105/237)   \rReceiving objects:  45% (107/237)   \rReceiving objects:  46% (110/237)   \rReceiving objects:  47% (112/237)   \rReceiving objects:  48% (114/237)   \rReceiving objects:  49% (117/237)   \rReceiving objects:  50% (119/237)   \rReceiving objects:  51% (121/237)   \rReceiving objects:  52% (124/237)   \rReceiving objects:  53% (126/237)   \rReceiving objects:  54% (128/237)   \rReceiving objects:  55% (131/237)   \rReceiving objects:  56% (133/237)   \rReceiving objects:  57% (136/237)   \rReceiving objects:  58% (138/237)   \rReceiving objects:  59% (140/237)   \rReceiving objects:  60% (143/237)   \rReceiving objects:  61% (145/237)   \rReceiving objects:  62% (147/237)   \rReceiving objects:  63% (150/237)   \rReceiving objects:  64% (152/237)   \rReceiving objects:  65% (155/237)   \rReceiving objects:  66% (157/237)   \rReceiving objects:  67% (159/237)   \rReceiving objects:  68% (162/237)   \rReceiving objects:  69% (164/237)   \rReceiving objects:  70% (166/237)   \rReceiving objects:  71% (169/237)   \rReceiving objects:  72% (171/237)   \rReceiving objects:  73% (174/237)   \rReceiving objects:  74% (176/237)   \rReceiving objects:  75% (178/237)   \rReceiving objects:  76% (181/237)   \rReceiving objects:  77% (183/237)   \rReceiving objects:  78% (185/237)   \rReceiving objects:  79% (188/237)   \rReceiving objects:  80% (190/237)   \rReceiving objects:  81% (192/237)   \rReceiving objects:  82% (195/237)   \rReceiving objects:  83% (197/237)   \rReceiving objects:  84% (200/237)   \rReceiving objects:  85% (202/237)   \rReceiving objects:  86% (204/237)   \rReceiving objects:  87% (207/237)   \rReceiving objects:  88% (209/237)   \rReceiving objects:  89% (211/237)   \rremote: Total 237 (delta 20), reused 0 (delta 0), pack-reused 172\u001b[K\n",
            "Receiving objects:  90% (214/237)   \rReceiving objects:  91% (216/237)   \rReceiving objects:  92% (219/237)   \rReceiving objects:  93% (221/237)   \rReceiving objects:  94% (223/237)   \rReceiving objects:  95% (226/237)   \rReceiving objects:  96% (228/237)   \rReceiving objects:  97% (230/237)   \rReceiving objects:  98% (233/237)   \rReceiving objects:  99% (235/237)   \rReceiving objects: 100% (237/237)   \rReceiving objects: 100% (237/237), 4.45 MiB | 23.87 MiB/s, done.\n",
            "Resolving deltas:   0% (0/132)   \rResolving deltas:  36% (48/132)   \rResolving deltas:  37% (50/132)   \rResolving deltas:  43% (57/132)   \rResolving deltas:  64% (85/132)   \rResolving deltas:  66% (88/132)   \rResolving deltas:  78% (103/132)   \rResolving deltas:  79% (105/132)   \rResolving deltas:  80% (106/132)   \rResolving deltas:  82% (109/132)   \rResolving deltas:  84% (111/132)   \rResolving deltas:  85% (113/132)   \rResolving deltas: 100% (132/132)   \rResolving deltas: 100% (132/132), done.\n"
          ],
          "name": "stdout"
        }
      ]
    },
    {
      "cell_type": "code",
      "metadata": {
        "id": "5R3732Gfsg2c",
        "colab_type": "code",
        "outputId": "21daedc0-9da4-48d3-897d-4c6760dbe7d0",
        "colab": {
          "base_uri": "https://localhost:8080/",
          "height": 34
        }
      },
      "source": [
        "%cd JSON2YOLO/data"
      ],
      "execution_count": 2,
      "outputs": [
        {
          "output_type": "stream",
          "text": [
            "/content/JSON2YOLO/data\n"
          ],
          "name": "stdout"
        }
      ]
    },
    {
      "cell_type": "markdown",
      "metadata": {
        "id": "fomo_PRLtUE3",
        "colab_type": "text"
      },
      "source": [
        "Data folder consist Image folder and json file with COCO dataset format "
      ]
    },
    {
      "cell_type": "code",
      "metadata": {
        "id": "loO1DZVgtP1n",
        "colab_type": "code",
        "outputId": "ec2309b3-5ed4-4949-f98b-fc14b745f5de",
        "colab": {
          "base_uri": "https://localhost:8080/",
          "height": 34
        }
      },
      "source": [
        "ls"
      ],
      "execution_count": 3,
      "outputs": [
        {
          "output_type": "stream",
          "text": [
            "\u001b[0m\u001b[01;34mimages\u001b[0m/  output.json\n"
          ],
          "name": "stdout"
        }
      ]
    },
    {
      "cell_type": "code",
      "metadata": {
        "id": "d_6KXstht2qt",
        "colab_type": "code",
        "outputId": "54819ffd-fc93-48e0-aa85-415788cdb0d5",
        "colab": {
          "base_uri": "https://localhost:8080/",
          "height": 34
        }
      },
      "source": [
        "%cd ../"
      ],
      "execution_count": 4,
      "outputs": [
        {
          "output_type": "stream",
          "text": [
            "/content/JSON2YOLO\n"
          ],
          "name": "stdout"
        }
      ]
    },
    {
      "cell_type": "markdown",
      "metadata": {
        "id": "3mSpYWj0tqLF",
        "colab_type": "text"
      },
      "source": [
        "Run python for conversion"
      ]
    },
    {
      "cell_type": "code",
      "metadata": {
        "id": "9mcsLnA4mjKV",
        "colab_type": "code",
        "outputId": "6c304f02-0ffe-482b-a202-82a68c6b972b",
        "colab": {
          "base_uri": "https://localhost:8080/",
          "height": 85
        }
      },
      "source": [
        "!python run.py --json_file_dir /content/JSON2YOLO/data/output.json --data_folder_path /content/JSON2YOLO/data"
      ],
      "execution_count": 5,
      "outputs": [
        {
          "output_type": "stream",
          "text": [
            "\rFiles and Shapes:   0% 0/18 [00:00<?, ?it/s]\rFiles and Shapes: 100% 18/18 [00:00<00:00, 7229.48it/s]\n",
            "\rNames:   0% 0/3 [00:00<?, ?it/s]\rNames: 100% 3/3 [00:00<00:00, 8484.77it/s]\n",
            "\rAnnotations:   0% 0/164 [00:00<?, ?it/s]\rAnnotations: 100% 164/164 [00:00<00:00, 13165.90it/s]\n",
            "Done. Output saved to /content/JSON2YOLO/data\n"
          ],
          "name": "stdout"
        }
      ]
    },
    {
      "cell_type": "markdown",
      "metadata": {
        "id": "joIo3CqJtv8g",
        "colab_type": "text"
      },
      "source": [
        "Split dataset into train dataset (90%) and validation dataset (10%)\n",
        "\n",
        "Data folder consist data is in Darket Format (YOLO)\n",
        "\n",
        "This data folder is used to train and inference YoloV3 (Object Detection Implementation)\n",
        "\n",
        "https://github.com/ganeshkulkarni98/yolov3\n",
        "\n",
        "follow above github repo for furthur process"
      ]
    },
    {
      "cell_type": "code",
      "metadata": {
        "id": "2TG4Jf3Ttx0-",
        "colab_type": "code",
        "outputId": "6666db53-0f54-4544-b9f7-90a60712083f",
        "colab": {
          "base_uri": "https://localhost:8080/",
          "height": 68
        }
      },
      "source": [
        "%cd data\n",
        "\n",
        "!ls"
      ],
      "execution_count": 6,
      "outputs": [
        {
          "output_type": "stream",
          "text": [
            "/content/JSON2YOLO/data\n",
            "data.names   data_test.txt   data.txt\t labels\n",
            "data.shapes  data_train.txt  images  output.json\n"
          ],
          "name": "stdout"
        }
      ]
    }
  ]
}
